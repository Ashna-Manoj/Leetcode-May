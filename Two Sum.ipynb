{
 "cells": [
  {
   "cell_type": "markdown",
   "metadata": {},
   "source": [
    "## 1. TWO SUM\n",
    "an array of integers, return indices of the two numbers such that they add up to a specific target.\n",
    "\n",
    "You may assume that each input would have exactly one solution, and you may not use the same element twice.\n",
    "\n",
    "Example:\n",
    "\n",
    "Given nums = [2, 7, 11, 15], target = 9,\n",
    "\n",
    "Because nums[0] + nums[1] = 2 + 7 = 9,\n",
    "return [0, 1]."
   ]
  },
  {
   "cell_type": "code",
   "execution_count": 41,
   "metadata": {},
   "outputs": [
    {
     "name": "stdout",
     "output_type": "stream",
     "text": [
      "-2 15\n",
      "True\n"
     ]
    }
   ],
   "source": [
    "nums=[-2, 7, 11, 15]\n",
    "target = 13\n"
   ]
  },
  {
   "cell_type": "markdown",
   "metadata": {},
   "source": [
    "#### 1) Brute Force"
   ]
  },
  {
   "cell_type": "code",
   "execution_count": 42,
   "metadata": {},
   "outputs": [
    {
     "name": "stdout",
     "output_type": "stream",
     "text": [
      "-2 15\n",
      "True\n"
     ]
    }
   ],
   "source": [
    "def two_sum (nums, target):\n",
    "    for i in range(len(nums)):\n",
    "        for j in range(i+1, len(nums)):\n",
    "            if nums[i]+ nums[j] == target:\n",
    "                print(nums[i],nums[j])\n",
    "                return True\n",
    "            \n",
    "    return False \n",
    "#exit out of both the for loops, \n",
    "#which implies that the if statement was not triggered and a possible pair was not found\n",
    "print(two_sum(nums,target))     \n",
    "        "
   ]
  },
  {
   "cell_type": "markdown",
   "metadata": {},
   "source": [
    "__Time Complexity:__  Since there are two for loops, time complexity is O(n^2) where n = size of the array _nums_ <br> __Space Complexity:__ is O(1) since no new auxillary data structure is used to store anything, just looping through the array _nums_ is being conducted"
   ]
  },
  {
   "cell_type": "markdown",
   "metadata": {},
   "source": [
    "#### 2) Hash Map"
   ]
  },
  {
   "cell_type": "code",
   "execution_count": 3,
   "metadata": {},
   "outputs": [
    {
     "output_type": "stream",
     "name": "stdout",
     "text": "Found the Match\n(3, 0)\n"
    }
   ],
   "source": [
    "A=[-2, 7, 11, 15]\n",
    "target = 13\n",
    "\n",
    "\n",
    "def two_sum_hash(A,target):\n",
    "    ht = dict()\n",
    "    for i in range(len(A)):\n",
    "        if A[i] in ht:\n",
    "             print(\"Found the Match\")\n",
    "             return i, ht[A[i]]\n",
    "        else:\n",
    "            ht[target - A[i]] = i\n",
    "    return False\n",
    "   \n",
    "    print(ht)\n",
    "print(two_sum_hash(A,target))"
   ]
  },
  {
   "cell_type": "code",
   "execution_count": null,
   "metadata": {},
   "outputs": [],
   "source": []
  }
 ],
 "metadata": {
  "kernelspec": {
   "display_name": "Python 3",
   "language": "python",
   "name": "python3"
  },
  "language_info": {
   "codemirror_mode": {
    "name": "ipython",
    "version": 3
   },
   "file_extension": ".py",
   "mimetype": "text/x-python",
   "name": "python",
   "nbconvert_exporter": "python",
   "pygments_lexer": "ipython3",
   "version": "3.6.8-final"
  }
 },
 "nbformat": 4,
 "nbformat_minor": 2
}